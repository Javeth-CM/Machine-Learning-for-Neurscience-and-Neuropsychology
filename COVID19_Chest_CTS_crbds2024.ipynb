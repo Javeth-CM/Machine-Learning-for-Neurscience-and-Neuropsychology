{
  "nbformat": 4,
  "nbformat_minor": 0,
  "metadata": {
    "colab": {
      "provenance": []
    },
    "kernelspec": {
      "name": "ir",
      "display_name": "R"
    },
    "language_info": {
      "name": "R"
    }
  },
  "cells": [
    {
      "cell_type": "markdown",
      "source": [
        "# Covid diagnosis dataset"
      ],
      "metadata": {
        "id": "ixAIRTDwCfzv"
      }
    },
    {
      "cell_type": "markdown",
      "source": [
        "## Preparing the enviroment\n",
        "\n",
        "We will need a set of libraries for manipulating the data. This session takes some time to run, so you only need to run it once."
      ],
      "metadata": {
        "id": "1bqs63PIdL6f"
      }
    },
    {
      "cell_type": "code",
      "source": [
        "install.packages(\"keras\")"
      ],
      "metadata": {
        "colab": {
          "base_uri": "https://localhost:8080/"
        },
        "id": "oV-w51qrCmNJ",
        "outputId": "8a0c6cdf-dc6e-4ca2-eae1-4f16c24158d8"
      },
      "execution_count": null,
      "outputs": [
        {
          "output_type": "stream",
          "name": "stderr",
          "text": [
            "Installing package into ‘/usr/local/lib/R/site-library’\n",
            "(as ‘lib’ is unspecified)\n",
            "\n",
            "also installing the dependencies ‘RcppTOML’, ‘here’, ‘png’, ‘config’, ‘tfautograph’, ‘reticulate’, ‘tensorflow’, ‘tfruns’, ‘zeallot’\n",
            "\n",
            "\n"
          ]
        }
      ]
    },
    {
      "cell_type": "code",
      "source": [
        "install.packages(\"caret\")"
      ],
      "metadata": {
        "colab": {
          "base_uri": "https://localhost:8080/"
        },
        "id": "i2vKJTygqAGl",
        "outputId": "050d5310-cd26-401f-e4d5-e96de712a83e"
      },
      "execution_count": null,
      "outputs": [
        {
          "output_type": "stream",
          "name": "stderr",
          "text": [
            "Installing package into ‘/usr/local/lib/R/site-library’\n",
            "(as ‘lib’ is unspecified)\n",
            "\n",
            "also installing the dependencies ‘listenv’, ‘parallelly’, ‘future’, ‘globals’, ‘shape’, ‘future.apply’, ‘numDeriv’, ‘progressr’, ‘SQUAREM’, ‘diagram’, ‘lava’, ‘prodlim’, ‘proxy’, ‘iterators’, ‘clock’, ‘gower’, ‘hardhat’, ‘ipred’, ‘timeDate’, ‘e1071’, ‘foreach’, ‘ModelMetrics’, ‘plyr’, ‘pROC’, ‘recipes’, ‘reshape2’\n",
            "\n",
            "\n"
          ]
        }
      ]
    },
    {
      "cell_type": "markdown",
      "source": [
        "## Loading libraries"
      ],
      "metadata": {
        "id": "rM1Zq_BEdhFv"
      }
    },
    {
      "cell_type": "code",
      "source": [
        "library(keras)\n",
        "library(caret)"
      ],
      "metadata": {
        "id": "83iaoja-c7dt"
      },
      "execution_count": null,
      "outputs": []
    },
    {
      "cell_type": "markdown",
      "source": [
        "The Following line is used to setup the size of images displayed within a Notebook."
      ],
      "metadata": {
        "id": "Gt8qY2HcqCaJ"
      }
    },
    {
      "cell_type": "code",
      "source": [
        "library(repr)\n",
        "options(repr.plot.width=8, repr.plot.height=5)"
      ],
      "metadata": {
        "id": "_aRXbd_8cmmW"
      },
      "execution_count": null,
      "outputs": []
    },
    {
      "cell_type": "markdown",
      "source": [
        "## Dataset setup"
      ],
      "metadata": {
        "id": "VUWJNcFuC0-b"
      }
    },
    {
      "cell_type": "markdown",
      "source": [
        "For this project we'll use the [SARS-CoV-2 CT scan dataset](https://www.kaggle.com/datasets/plameneduardo/sarscov2-ctscan-dataset), containing 1252 CT scans that are positive for SARS-CoV-2 infection (COVID-19) and 1230 CT scans for patients non-infected by SARS-CoV-2, 2482 CT scans in total. These data have been collected from real patients in hospitals from Sao Paulo, Brazil. The aim of this dataset is to encourage the research and development of artificial intelligent methods which are able to identify if a person is infected by SARS-CoV-2 through the analysis of his/her CT scans."
      ],
      "metadata": {
        "id": "3mK602eRdldA"
      }
    },
    {
      "cell_type": "code",
      "source": [
        "download.file(\"https://www.dropbox.com/s/qud4rxiht5guk0g/COVID%20CTs.zip?dl=1\", \"./COVID19_CTs.zip\")"
      ],
      "metadata": {
        "id": "U9uc9F64C31l"
      },
      "execution_count": null,
      "outputs": []
    },
    {
      "cell_type": "code",
      "source": [
        "unzip(\"./COVID19_CTs.zip\", exdir = \"COVID19_CTs\")"
      ],
      "metadata": {
        "id": "ZiNnI2xLC6MK"
      },
      "execution_count": null,
      "outputs": []
    },
    {
      "cell_type": "markdown",
      "source": [
        "### Auxiliary function\n",
        "This function is used to preprocess the data:\n",
        "1. Load an image from a file;\n",
        "1. Convert the binary data to an array of numbers;\n",
        "1. Resize it to 100x100 pixels images;\n",
        "1. Normalize the data;"
      ],
      "metadata": {
        "id": "cHoXiKU9ewFC"
      }
    },
    {
      "cell_type": "code",
      "source": [
        "process_pix <- function(lsf) {\n",
        "  img <- lapply(lsf, image_load, grayscale = TRUE) # grayscale the image\n",
        "  arr <- lapply(img, image_to_array) # turns it into an array\n",
        "  arr_resized <- lapply(arr, image_array_resize,\n",
        "                        height = 100,\n",
        "                        width = 100) # resize\n",
        "  arr_normalized <- normalize(arr_resized, axis = 1) #normalize to make small numbers\n",
        "  return(arr_normalized)\n",
        "}"
      ],
      "metadata": {
        "id": "dIQI8AikC8Sq"
      },
      "execution_count": null,
      "outputs": []
    },
    {
      "cell_type": "markdown",
      "source": [
        "### Load and preprocess the data"
      ],
      "metadata": {
        "id": "k8iTaSV3fXRU"
      }
    },
    {
      "cell_type": "code",
      "source": [
        "# with covid\n",
        "lsf <- list.files(\"COVID19_CTs/COVID/\", full.names = TRUE) # List all files within a directory\n",
        "covid <- process_pix(lsf) # Apply the process function"
      ],
      "metadata": {
        "id": "N_ldJImxfwvn"
      },
      "execution_count": null,
      "outputs": []
    },
    {
      "cell_type": "markdown",
      "source": [
        "When dealing with images, usually with have information for the RGB 3 channels. These are grayscale images, thus, we don't need to keep and extra dimension for the data."
      ],
      "metadata": {
        "id": "Fn0CmvAEgHip"
      }
    },
    {
      "cell_type": "code",
      "source": [
        "dim(covid)"
      ],
      "metadata": {
        "colab": {
          "base_uri": "https://localhost:8080/",
          "height": 34
        },
        "id": "EYXbNjmcfyO0",
        "outputId": "b4f49f9c-d45c-459d-aad5-75cc66b947c1"
      },
      "execution_count": null,
      "outputs": [
        {
          "output_type": "display_data",
          "data": {
            "text/html": [
              "0"
            ],
            "text/markdown": "0",
            "text/latex": "0",
            "text/plain": [
              "[1] 0"
            ]
          },
          "metadata": {}
        }
      ]
    },
    {
      "cell_type": "code",
      "source": [
        "covid <- covid[,,,1] # get rid of last dim\n",
        "covid_reshaped <- array_reshape(covid, c(nrow(covid), 100*100)) # Create a 2d matrix from the data"
      ],
      "metadata": {
        "id": "CymqIHp0DCBo",
        "colab": {
          "base_uri": "https://localhost:8080/",
          "height": 179
        },
        "outputId": "4a237dfb-9f70-40a5-a36f-7769a7abb1d5"
      },
      "execution_count": null,
      "outputs": [
        {
          "output_type": "error",
          "ename": "ERROR",
          "evalue": "Error in `[.tensorflow.tensor`(covid, , , , 1): Incorrect number of dimensions supplied. 1 required, but received 4\n",
          "traceback": [
            "Error in `[.tensorflow.tensor`(covid, , , , 1): Incorrect number of dimensions supplied. 1 required, but received 4\nTraceback:\n",
            "1. covid[, , , 1]",
            "2. `[.tensorflow.tensor`(covid, , , , 1)",
            "3. stop(\"Incorrect number of dimensions supplied. \", py_len(x$shape), \n .     \" required, but received \", length(dropNULL(dots)))"
          ]
        }
      ]
    },
    {
      "cell_type": "markdown",
      "source": [
        "Now we do the same steps with the images for patients without COVID19"
      ],
      "metadata": {
        "id": "InJd-rK_geqD"
      }
    },
    {
      "cell_type": "code",
      "source": [
        "# without covid\n",
        "lsf <- list.files(\"COVID19_CTs/non-COVID/\", full.names = TRUE)\n",
        "ncovid <- process_pix(lsf)\n",
        "ncovid <- ncovid[,,,1] # get rid of last dim\n",
        "ncovid_reshaped <- array_reshape(ncovid, c(nrow(ncovid), 100*100))"
      ],
      "metadata": {
        "id": "pcLdY2ilgczU"
      },
      "execution_count": null,
      "outputs": []
    },
    {
      "cell_type": "markdown",
      "source": [
        "Now, let's take a look at what the images for COVID19 and non-COVID19 look like:"
      ],
      "metadata": {
        "id": "h88qKqmbkzRv"
      }
    },
    {
      "cell_type": "code",
      "source": [
        "image(t(apply(covid[10,,],2,rev)), main = \"COVID19 Patient\",\n",
        "      axes=FALSE, col = gray.colors(12))\n",
        "image(t(apply(ncovid[10,,],2,rev)), main = \"Non-COVID19 Patient\",\n",
        "      axes=FALSE, col = gray.colors(12))"
      ],
      "metadata": {
        "colab": {
          "base_uri": "https://localhost:8080/",
          "height": 617
        },
        "id": "x43d07Bnhu7F",
        "outputId": "88fe8123-2525-4c37-a69c-16580a945ad0"
      },
      "execution_count": null,
      "outputs": [
        {
          "output_type": "display_data",
          "data": {
            "text/plain": [
              "Plot with title “COVID19 Patient”"
            ],
            "image/png": "[encoded data removed]"
          },
          "metadata": {
            "image/png": {
              "width": 480,
              "height": 300
            }
          }
        },
        {
          "output_type": "display_data",
          "data": {
            "text/plain": [
              "Plot with title “Non-COVID19 Patient”"
            ],
            "image/png": "[encoded data removed]"
          },
          "metadata": {
            "image/png": {
              "width": 480,
              "height": 300
            }
          }
        }
      ]
    },
    {
      "cell_type": "markdown",
      "source": [
        "Now we put all the data together and shuffle it."
      ],
      "metadata": {
        "id": "w0LcVZeUmyZ-"
      }
    },
    {
      "cell_type": "code",
      "source": [
        "df <- rbind(cbind(covid_reshaped, 1), # 1 = covid\n",
        "            cbind(ncovid_reshaped, 0)) # 0 = no covid\n",
        "set.seed(1234)\n",
        "shuffle <- sample(nrow(df), replace = F)\n",
        "df <- df[shuffle, ]"
      ],
      "metadata": {
        "id": "OU7GsdpiDaUg",
        "colab": {
          "base_uri": "https://localhost:8080/",
          "height": 126
        },
        "outputId": "43daf6a5-dc75-4006-fdf4-160c1a4dfdaa"
      },
      "execution_count": null,
      "outputs": [
        {
          "output_type": "error",
          "ename": "ERROR",
          "evalue": "Error in eval(expr, envir, enclos): object 'covid_reshaped' not found\n",
          "traceback": [
            "Error in eval(expr, envir, enclos): object 'covid_reshaped' not found\nTraceback:\n",
            "1. rbind(cbind(covid_reshaped, 1), cbind(ncovid_reshaped, 0))",
            "2. cbind(covid_reshaped, 1)"
          ]
        }
      ]
    },
    {
      "cell_type": "markdown",
      "source": [
        "Split the data into train and test"
      ],
      "metadata": {
        "id": "-rSIMfR6pXs8"
      }
    },
    {
      "cell_type": "code",
      "source": [
        "set.seed(2022)\n",
        "split <- sample(2, nrow(df), replace = T, prob = c(0.7, 0.2))\n",
        "train <- df[split == 1,c(1:1000)]\n",
        "test <- df[split == 2,c(1:1000)]\n",
        "train_target <- df[split == 1, 10001] # label in training dataset\n",
        "test_target <- df[split == 2, 10001] # label in testing dataset"
      ],
      "metadata": {
        "id": "u6KoWCl8DbGU",
        "colab": {
          "base_uri": "https://localhost:8080/",
          "height": 126
        },
        "outputId": "f8b1e954-6b95-495a-844b-9ed91f6443c8"
      },
      "execution_count": null,
      "outputs": [
        {
          "output_type": "error",
          "ename": "ERROR",
          "evalue": "Error in sample.int(x, size, replace, prob): invalid 'size' argument\n",
          "traceback": [
            "Error in sample.int(x, size, replace, prob): invalid 'size' argument\nTraceback:\n",
            "1. sample(2, nrow(df), replace = T, prob = c(0.7, 0.2))",
            "2. sample.int(x, size, replace, prob)"
          ]
        }
      ]
    },
    {
      "cell_type": "code",
      "source": [
        "dim(train)\n",
        "dim(test)"
      ],
      "metadata": {
        "colab": {
          "base_uri": "https://localhost:8080/",
          "height": 52
        },
        "id": "l53O97BzpiMJ",
        "outputId": "262dca4d-86ba-4443-877b-854e3ef3fb43"
      },
      "execution_count": null,
      "outputs": [
        {
          "output_type": "display_data",
          "data": {
            "text/html": [
              "<style>\n",
              ".list-inline {list-style: none; margin:0; padding: 0}\n",
              ".list-inline>li {display: inline-block}\n",
              ".list-inline>li:not(:last-child)::after {content: \"\\00b7\"; padding: 0 .5ex}\n",
              "</style>\n",
              "<ol class=list-inline><li>1927</li><li>1000</li></ol>\n"
            ],
            "text/markdown": "1. 1927\n2. 1000\n\n\n",
            "text/latex": "\\begin{enumerate*}\n\\item 1927\n\\item 1000\n\\end{enumerate*}\n",
            "text/plain": [
              "[1] 1927 1000"
            ]
          },
          "metadata": {}
        },
        {
          "output_type": "display_data",
          "data": {
            "text/html": [
              "<style>\n",
              ".list-inline {list-style: none; margin:0; padding: 0}\n",
              ".list-inline>li {display: inline-block}\n",
              ".list-inline>li:not(:last-child)::after {content: \"\\00b7\"; padding: 0 .5ex}\n",
              "</style>\n",
              "<ol class=list-inline><li>554</li><li>1000</li></ol>\n"
            ],
            "text/markdown": "1. 554\n2. 1000\n\n\n",
            "text/latex": "\\begin{enumerate*}\n\\item 554\n\\item 1000\n\\end{enumerate*}\n",
            "text/plain": [
              "[1]  554 1000"
            ]
          },
          "metadata": {}
        }
      ]
    },
    {
      "cell_type": "markdown",
      "source": [
        "## Model Building and Trainning"
      ],
      "metadata": {
        "id": "CS8QpV86ppFE"
      }
    },
    {
      "cell_type": "code",
      "source": [
        "model <- keras_model_sequential() %>%\n",
        "  layer_dense(units = 64, activation = \"relu\", input_shape = c(1000)) %>%\n",
        "  layer_dropout(0.2) %>%\n",
        "  layer_dense(units = 2, activation = 'softmax')"
      ],
      "metadata": {
        "id": "C9PUDPOmDd1A",
        "colab": {
          "base_uri": "https://localhost:8080/",
          "height": 783
        },
        "collapsed": true,
        "outputId": "b72bd07a-26db-4abd-e00c-2ebf3170a077"
      },
      "execution_count": null,
      "outputs": [
        {
          "output_type": "error",
          "ename": "ERROR",
          "evalue": "Only input tensors may be passed as positional arguments. The following argument value should be passed as a keyword argument: <Sequential name=sequential, built=False> (of type <class 'keras.src.models.sequential.Sequential'>)",
          "traceback": [
            "Only input tensors may be passed as positional arguments. The following argument value should be passed as a keyword argument: <Sequential name=sequential, built=False> (of type <class 'keras.src.models.sequential.Sequential'>)Traceback:\n",
            "1. keras_model_sequential() %>% layer_dense(units = 64, activation = \"relu\", \n .     input_shape = c(1000)) %>% layer_dropout(0.2) %>% layer_dense(units = 2, \n .     activation = \"softmax\")",
            "2. layer_dense(., units = 2, activation = \"softmax\")",
            "3. create_layer(keras$layers$Dense, object, list(units = as.integer(units), \n .     activation = activation, use_bias = use_bias, kernel_initializer = kernel_initializer, \n .     bias_initializer = bias_initializer, kernel_regularizer = kernel_regularizer, \n .     bias_regularizer = bias_regularizer, activity_regularizer = activity_regularizer, \n .     kernel_constraint = kernel_constraint, bias_constraint = bias_constraint, \n .     input_shape = normalize_shape(input_shape), batch_input_shape = normalize_shape(batch_input_shape), \n .     batch_size = as_nullable_integer(batch_size), dtype = dtype, \n .     name = name, trainable = trainable, weights = weights))",
            "4. layer_dropout(., 0.2)",
            "5. create_layer(keras$layers$Dropout, object, list(rate = rate, \n .     noise_shape = normalize_shape(noise_shape), seed = seed, \n .     input_shape = normalize_shape(input_shape), batch_input_shape = normalize_shape(batch_input_shape), \n .     batch_size = as_nullable_integer(batch_size), name = name, \n .     trainable = trainable, weights = weights))",
            "6. layer_dense(., units = 64, activation = \"relu\", input_shape = c(1000))",
            "7. create_layer(keras$layers$Dense, object, list(units = as.integer(units), \n .     activation = activation, use_bias = use_bias, kernel_initializer = kernel_initializer, \n .     bias_initializer = bias_initializer, kernel_regularizer = kernel_regularizer, \n .     bias_regularizer = bias_regularizer, activity_regularizer = activity_regularizer, \n .     kernel_constraint = kernel_constraint, bias_constraint = bias_constraint, \n .     input_shape = normalize_shape(input_shape), batch_input_shape = normalize_shape(batch_input_shape), \n .     batch_size = as_nullable_integer(batch_size), dtype = dtype, \n .     name = name, trainable = trainable, weights = weights))",
            "8. compose_layer(object, layer)",
            "9. compose_layer.default(object, layer)",
            "10. layer(object, ...)",
            "11. py_call_impl(callable, call_args$unnamed, call_args$named)"
          ]
        }
      ]
    },
    {
      "cell_type": "code",
      "source": [
        "model %>%\n",
        "  compile(optimizer = 'adam',\n",
        "          loss = 'binary_crossentropy',\n",
        "          metrics = c('accuracy'))"
      ],
      "metadata": {
        "id": "-LgVZ_5CF964"
      },
      "execution_count": null,
      "outputs": []
    },
    {
      "cell_type": "markdown",
      "source": [
        "Model has ~ 64000 parameters to learn"
      ],
      "metadata": {
        "id": "Xp7kgEXkq-w3"
      }
    },
    {
      "cell_type": "code",
      "source": [
        "summary(model)"
      ],
      "metadata": {
        "colab": {
          "base_uri": "https://localhost:8080/"
        },
        "id": "1gKlC19hqwb8",
        "outputId": "6ba15d11-d054-4c33-83b3-1f61d76aae4d"
      },
      "execution_count": null,
      "outputs": [
        {
          "output_type": "stream",
          "name": "stdout",
          "text": [
            "Model: \"sequential\"\n",
            "________________________________________________________________________________\n",
            " Layer (type)                       Output Shape                    Param #     \n",
            "================================================================================\n",
            " dense_1 (Dense)                    (None, 64)                      64064       \n",
            " dropout (Dropout)                  (None, 64)                      0           \n",
            " dense (Dense)                      (None, 2)                       130         \n",
            "================================================================================\n",
            "Total params: 64,194\n",
            "Trainable params: 64,194\n",
            "Non-trainable params: 0\n",
            "________________________________________________________________________________\n"
          ]
        }
      ]
    },
    {
      "cell_type": "markdown",
      "source": [
        "Now we do the [one hot encoding](https://en.wikipedia.org/wiki/One-hot) of our output variable."
      ],
      "metadata": {
        "id": "8IBBbU13qYD0"
      }
    },
    {
      "cell_type": "code",
      "source": [
        "train_label <- to_categorical(train_target)\n",
        "test_label <- to_categorical(test_target)"
      ],
      "metadata": {
        "id": "hUTJIqdhDelN"
      },
      "execution_count": null,
      "outputs": []
    },
    {
      "cell_type": "code",
      "source": [
        "fit_covid <- model %>%\n",
        "  fit(x = train,\n",
        "      y = train_label,\n",
        "      epochs = 10,\n",
        "      batch_size = 16,\n",
        "      verbose = 1,\n",
        "      validation_split = 0.2)"
      ],
      "metadata": {
        "id": "2eCMigBZDhO5"
      },
      "execution_count": null,
      "outputs": []
    },
    {
      "cell_type": "code",
      "source": [
        "plot(fit_covid)"
      ],
      "metadata": {
        "colab": {
          "base_uri": "https://localhost:8080/",
          "height": 317
        },
        "id": "83f8_C9TDlkB",
        "outputId": "c90aa151-88a8-4de3-f494-1eb3e2e39fa1"
      },
      "execution_count": null,
      "outputs": [
        {
          "output_type": "display_data",
          "data": {
            "text/plain": [
              "plot without title"
            ],
            "image/png": "[encoded data removed]"
          },
          "metadata": {
            "image/png": {
              "width": 480,
              "height": 300
            }
          }
        }
      ]
    },
    {
      "cell_type": "markdown",
      "source": [
        "## Model Evaluation"
      ],
      "metadata": {
        "id": "1g9YVvsuqNTp"
      }
    },
    {
      "cell_type": "code",
      "source": [
        "model %>%\n",
        "  evaluate(test, test_label)"
      ],
      "metadata": {
        "colab": {
          "base_uri": "https://localhost:8080/",
          "height": 34
        },
        "id": "o0CtcqriDnaG",
        "outputId": "caca41ad-15d9-43d0-8d9c-5d00d330e975"
      },
      "execution_count": null,
      "outputs": [
        {
          "output_type": "display_data",
          "data": {
            "text/html": [
              "<style>\n",
              ".dl-inline {width: auto; margin:0; padding: 0}\n",
              ".dl-inline>dt, .dl-inline>dd {float: none; width: auto; display: inline-block}\n",
              ".dl-inline>dt::after {content: \":\\0020\"; padding-right: .5ex}\n",
              ".dl-inline>dt:not(:first-of-type) {padding-left: .5ex}\n",
              "</style><dl class=dl-inline><dt>loss</dt><dd>0.693106174468994</dd><dt>accuracy</dt><dd>0.501805067062378</dd></dl>\n"
            ],
            "text/markdown": "loss\n:   0.693106174468994accuracy\n:   0.501805067062378\n\n",
            "text/latex": "\\begin{description*}\n\\item[loss] 0.693106174468994\n\\item[accuracy] 0.501805067062378\n\\end{description*}\n",
            "text/plain": [
              "     loss  accuracy \n",
              "0.6931062 0.5018051 "
            ]
          },
          "metadata": {}
        }
      ]
    },
    {
      "cell_type": "markdown",
      "source": [
        "Test our model by doing a prediction on the test partition than build a confusion matrix"
      ],
      "metadata": {
        "id": "FkZksVV7rRmV"
      }
    },
    {
      "cell_type": "code",
      "source": [
        "predictions <- model %>% predict(test) %>% k_argmax()\n",
        "expected_value <- test_label %>% k_argmax()"
      ],
      "metadata": {
        "id": "RdloTSqCEAy7"
      },
      "execution_count": null,
      "outputs": []
    },
    {
      "cell_type": "code",
      "source": [
        "# Need to convert data to factor\n",
        "predictions <- factor(as.array(predictions))\n",
        "expected_value <- factor(as.array(expected_value))\n",
        "#Display results in a Confusion Matrix\n",
        "confusionMatrix(data=predictions, reference = expected_value)"
      ],
      "metadata": {
        "colab": {
          "base_uri": "https://localhost:8080/",
          "height": 520
        },
        "id": "Wh1-CgueEMNm",
        "outputId": "68aa9581-03cf-4d3d-a33a-abd2341c5cb5"
      },
      "execution_count": null,
      "outputs": [
        {
          "output_type": "stream",
          "name": "stderr",
          "text": [
            "Warning message in confusionMatrix.default(data = predictions, reference = expected_value):\n",
            "“Levels are not in the same order for reference and data. Refactoring data to match.”\n"
          ]
        },
        {
          "output_type": "display_data",
          "data": {
            "text/plain": [
              "Confusion Matrix and Statistics\n",
              "\n",
              "          Reference\n",
              "Prediction   0   1\n",
              "         0   0   0\n",
              "         1 276 278\n",
              "                                          \n",
              "               Accuracy : 0.5018          \n",
              "                 95% CI : (0.4594, 0.5442)\n",
              "    No Information Rate : 0.5018          \n",
              "    P-Value [Acc > NIR] : 0.517           \n",
              "                                          \n",
              "                  Kappa : 0               \n",
              "                                          \n",
              " Mcnemar's Test P-Value : <2e-16          \n",
              "                                          \n",
              "            Sensitivity : 0.0000          \n",
              "            Specificity : 1.0000          \n",
              "         Pos Pred Value :    NaN          \n",
              "         Neg Pred Value : 0.5018          \n",
              "             Prevalence : 0.4982          \n",
              "         Detection Rate : 0.0000          \n",
              "   Detection Prevalence : 0.0000          \n",
              "      Balanced Accuracy : 0.5000          \n",
              "                                          \n",
              "       'Positive' Class : 0               \n",
              "                                          "
            ]
          },
          "metadata": {}
        }
      ]
    }
  ]
}